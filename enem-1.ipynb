{
 "cells": [
  {
   "cell_type": "markdown",
   "metadata": {},
   "source": [
    "# Codenation problem set - Melhores colocados ENEM\n",
    "\n",
    "### Score: 100%\n",
    "### Ranking: 23º "
   ]
  },
  {
   "cell_type": "code",
   "execution_count": 15,
   "metadata": {},
   "outputs": [],
   "source": [
    "import numpy as np\n",
    "import pandas as pd"
   ]
  },
  {
   "cell_type": "markdown",
   "metadata": {},
   "source": [
    "Reads the training csv and selects only the columns that matters (the \"student id\" and his grades)."
   ]
  },
  {
   "cell_type": "code",
   "execution_count": 54,
   "metadata": {},
   "outputs": [],
   "source": [
    "data = pd.read_csv('train.csv', usecols=['NU_INSCRICAO', 'NU_NOTA_CN', 'NU_NOTA_CH', 'NU_NOTA_LC', 'NU_NOTA_MT', 'NU_NOTA_REDACAO'])"
   ]
  },
  {
   "cell_type": "markdown",
   "metadata": {},
   "source": [
    "Checks out the first 5 rows from the dataset."
   ]
  },
  {
   "cell_type": "code",
   "execution_count": 55,
   "metadata": {
    "scrolled": false
   },
   "outputs": [
    {
     "data": {
      "text/html": [
       "<div>\n",
       "<style scoped>\n",
       "    .dataframe tbody tr th:only-of-type {\n",
       "        vertical-align: middle;\n",
       "    }\n",
       "\n",
       "    .dataframe tbody tr th {\n",
       "        vertical-align: top;\n",
       "    }\n",
       "\n",
       "    .dataframe thead th {\n",
       "        text-align: right;\n",
       "    }\n",
       "</style>\n",
       "<table border=\"1\" class=\"dataframe\">\n",
       "  <thead>\n",
       "    <tr style=\"text-align: right;\">\n",
       "      <th></th>\n",
       "      <th>NU_INSCRICAO</th>\n",
       "      <th>NU_NOTA_CN</th>\n",
       "      <th>NU_NOTA_CH</th>\n",
       "      <th>NU_NOTA_LC</th>\n",
       "      <th>NU_NOTA_MT</th>\n",
       "      <th>NU_NOTA_REDACAO</th>\n",
       "    </tr>\n",
       "  </thead>\n",
       "  <tbody>\n",
       "    <tr>\n",
       "      <th>0</th>\n",
       "      <td>ed50e8aaa58e7a806c337585efee9ca41f1eb1ad</td>\n",
       "      <td>436.3</td>\n",
       "      <td>495.4</td>\n",
       "      <td>581.2</td>\n",
       "      <td>399.4</td>\n",
       "      <td>520.0</td>\n",
       "    </tr>\n",
       "    <tr>\n",
       "      <th>1</th>\n",
       "      <td>2c3acac4b33ec2b195d77e7c04a2d75727fad723</td>\n",
       "      <td>474.5</td>\n",
       "      <td>544.1</td>\n",
       "      <td>599.0</td>\n",
       "      <td>459.8</td>\n",
       "      <td>580.0</td>\n",
       "    </tr>\n",
       "    <tr>\n",
       "      <th>2</th>\n",
       "      <td>f4545f8ccb9ff5c8aad7d32951b3f251a26e6568</td>\n",
       "      <td>NaN</td>\n",
       "      <td>NaN</td>\n",
       "      <td>NaN</td>\n",
       "      <td>NaN</td>\n",
       "      <td>NaN</td>\n",
       "    </tr>\n",
       "    <tr>\n",
       "      <th>3</th>\n",
       "      <td>3d6ec248fef899c414e77f82d5c6d2bffbeaf7fe</td>\n",
       "      <td>NaN</td>\n",
       "      <td>NaN</td>\n",
       "      <td>NaN</td>\n",
       "      <td>NaN</td>\n",
       "      <td>NaN</td>\n",
       "    </tr>\n",
       "    <tr>\n",
       "      <th>4</th>\n",
       "      <td>bf896ac8d3ecadd6dba1dfbf50110afcbf5d3268</td>\n",
       "      <td>NaN</td>\n",
       "      <td>NaN</td>\n",
       "      <td>NaN</td>\n",
       "      <td>NaN</td>\n",
       "      <td>NaN</td>\n",
       "    </tr>\n",
       "  </tbody>\n",
       "</table>\n",
       "</div>"
      ],
      "text/plain": [
       "                               NU_INSCRICAO  NU_NOTA_CN  NU_NOTA_CH  \\\n",
       "0  ed50e8aaa58e7a806c337585efee9ca41f1eb1ad       436.3       495.4   \n",
       "1  2c3acac4b33ec2b195d77e7c04a2d75727fad723       474.5       544.1   \n",
       "2  f4545f8ccb9ff5c8aad7d32951b3f251a26e6568         NaN         NaN   \n",
       "3  3d6ec248fef899c414e77f82d5c6d2bffbeaf7fe         NaN         NaN   \n",
       "4  bf896ac8d3ecadd6dba1dfbf50110afcbf5d3268         NaN         NaN   \n",
       "\n",
       "   NU_NOTA_LC  NU_NOTA_MT  NU_NOTA_REDACAO  \n",
       "0       581.2       399.4            520.0  \n",
       "1       599.0       459.8            580.0  \n",
       "2         NaN         NaN              NaN  \n",
       "3         NaN         NaN              NaN  \n",
       "4         NaN         NaN              NaN  "
      ]
     },
     "execution_count": 55,
     "metadata": {},
     "output_type": "execute_result"
    }
   ],
   "source": [
    "data.head()"
   ]
  },
  {
   "cell_type": "markdown",
   "metadata": {},
   "source": [
    "As you can see, there are several roles with NaN grades, so we have to drop them."
   ]
  },
  {
   "cell_type": "code",
   "execution_count": 56,
   "metadata": {
    "scrolled": true
   },
   "outputs": [],
   "source": [
    "data = data.dropna()"
   ]
  },
  {
   "cell_type": "markdown",
   "metadata": {},
   "source": [
    "It's time to perform the final grade calculation according to what the challenge says:\n",
    "\n",
    "matemática: 3  \n",
    "ciências da natureza: 2  \n",
    "linguagens e códigos: 1.5  \n",
    "ciências humanas: 1  \n",
    "redação: 3  "
   ]
  },
  {
   "cell_type": "code",
   "execution_count": 57,
   "metadata": {},
   "outputs": [],
   "source": [
    "data['NOTA_FINAL'] = (data['NU_NOTA_MT'] * 3 + data['NU_NOTA_CN'] * 2 + data['NU_NOTA_LC'] * 1.5 + \\\n",
    "    data['NU_NOTA_CH'] + data['NU_NOTA_REDACAO'] * 3) / 5"
   ]
  },
  {
   "cell_type": "markdown",
   "metadata": {},
   "source": [
    "Then I sort the rows by the \"NOTA_FINAL\" column in an descending order, and select only the first 20 rows.\n",
    "The second line tells me the number of (rows, columns) from the dataframe, just to check if everything is as it should be."
   ]
  },
  {
   "cell_type": "code",
   "execution_count": 58,
   "metadata": {},
   "outputs": [
    {
     "data": {
      "text/plain": [
       "(20, 7)"
      ]
     },
     "execution_count": 58,
     "metadata": {},
     "output_type": "execute_result"
    }
   ],
   "source": [
    "data = data.sort_values('NOTA_FINAL', ascending=False)[:20]\n",
    "data.shape"
   ]
  },
  {
   "cell_type": "markdown",
   "metadata": {},
   "source": [
    "Now I just dropped every other column rather than \"NU_INSCRICAO\" and \"NU_NOTA_FINAL\", and printed the dataframe again for one final checkup."
   ]
  },
  {
   "cell_type": "code",
   "execution_count": 64,
   "metadata": {},
   "outputs": [
    {
     "data": {
      "text/html": [
       "<div>\n",
       "<style scoped>\n",
       "    .dataframe tbody tr th:only-of-type {\n",
       "        vertical-align: middle;\n",
       "    }\n",
       "\n",
       "    .dataframe tbody tr th {\n",
       "        vertical-align: top;\n",
       "    }\n",
       "\n",
       "    .dataframe thead th {\n",
       "        text-align: right;\n",
       "    }\n",
       "</style>\n",
       "<table border=\"1\" class=\"dataframe\">\n",
       "  <thead>\n",
       "    <tr style=\"text-align: right;\">\n",
       "      <th></th>\n",
       "      <th>NU_INSCRICAO</th>\n",
       "      <th>NOTA_FINAL</th>\n",
       "    </tr>\n",
       "  </thead>\n",
       "  <tbody>\n",
       "    <tr>\n",
       "      <th>10801</th>\n",
       "      <td>848daf808904864c1ee5d51545a2539e2dcbe901</td>\n",
       "      <td>1751.71</td>\n",
       "    </tr>\n",
       "    <tr>\n",
       "      <th>3226</th>\n",
       "      <td>97166da67df0908861a868cf318b277c4bdbb0da</td>\n",
       "      <td>1739.25</td>\n",
       "    </tr>\n",
       "    <tr>\n",
       "      <th>3682</th>\n",
       "      <td>b733ccac4e5b7c1da0448f1dad7990ec0793b1d2</td>\n",
       "      <td>1720.98</td>\n",
       "    </tr>\n",
       "    <tr>\n",
       "      <th>9011</th>\n",
       "      <td>78ca18b6fea7ccd3e067b3945cf200f8686209a7</td>\n",
       "      <td>1716.40</td>\n",
       "    </tr>\n",
       "    <tr>\n",
       "      <th>4755</th>\n",
       "      <td>8588b01c2ff81ad3c9ff31cd89fc094896c4aa69</td>\n",
       "      <td>1708.71</td>\n",
       "    </tr>\n",
       "    <tr>\n",
       "      <th>12707</th>\n",
       "      <td>19982f867b8f23a829a2f738374770708ec7f263</td>\n",
       "      <td>1700.87</td>\n",
       "    </tr>\n",
       "    <tr>\n",
       "      <th>6039</th>\n",
       "      <td>17ae668ce9041105883e9db101d614f58d526f66</td>\n",
       "      <td>1698.58</td>\n",
       "    </tr>\n",
       "    <tr>\n",
       "      <th>10219</th>\n",
       "      <td>3326c76719930f9838bc9ef803fe1b73a1668723</td>\n",
       "      <td>1689.04</td>\n",
       "    </tr>\n",
       "    <tr>\n",
       "      <th>1509</th>\n",
       "      <td>41489fd85a5d0cb6e397fb5ebcd19d32e9265cb7</td>\n",
       "      <td>1685.95</td>\n",
       "    </tr>\n",
       "    <tr>\n",
       "      <th>3535</th>\n",
       "      <td>32767c1a152919a1f72fa91afe19bb7c559f2824</td>\n",
       "      <td>1681.58</td>\n",
       "    </tr>\n",
       "    <tr>\n",
       "      <th>11334</th>\n",
       "      <td>ac5057ba1f029c2c37bc55c82f3ea3e4b8bcb0ce</td>\n",
       "      <td>1678.61</td>\n",
       "    </tr>\n",
       "    <tr>\n",
       "      <th>10951</th>\n",
       "      <td>7c7c16a3ebd04e3b4a42e086a447a64fc6fa0996</td>\n",
       "      <td>1669.45</td>\n",
       "    </tr>\n",
       "    <tr>\n",
       "      <th>9602</th>\n",
       "      <td>e9a67323f3cce292a7fd1528311470edb38f82d9</td>\n",
       "      <td>1665.71</td>\n",
       "    </tr>\n",
       "    <tr>\n",
       "      <th>4564</th>\n",
       "      <td>9eaa35afce755aeef24faee5ec0e78612f52b56c</td>\n",
       "      <td>1659.42</td>\n",
       "    </tr>\n",
       "    <tr>\n",
       "      <th>5913</th>\n",
       "      <td>c0bb9d9a29e686a5ef35f2443738d4bd8544a290</td>\n",
       "      <td>1655.89</td>\n",
       "    </tr>\n",
       "    <tr>\n",
       "      <th>3792</th>\n",
       "      <td>c771c44232f6ae553494cf7085f2b3e515841133</td>\n",
       "      <td>1654.41</td>\n",
       "    </tr>\n",
       "    <tr>\n",
       "      <th>499</th>\n",
       "      <td>4c29d5913f759e503efae77c531a713d48dfb512</td>\n",
       "      <td>1653.37</td>\n",
       "    </tr>\n",
       "    <tr>\n",
       "      <th>13191</th>\n",
       "      <td>61f38d59bbcfa4897a2e14740bec95e087e2e06f</td>\n",
       "      <td>1651.34</td>\n",
       "    </tr>\n",
       "    <tr>\n",
       "      <th>3080</th>\n",
       "      <td>b8912a162392742129d79ff0c625cfc02a425811</td>\n",
       "      <td>1645.12</td>\n",
       "    </tr>\n",
       "    <tr>\n",
       "      <th>10387</th>\n",
       "      <td>05a0ee9c17758662d1e5a985cac6d7e0938d3a58</td>\n",
       "      <td>1642.04</td>\n",
       "    </tr>\n",
       "  </tbody>\n",
       "</table>\n",
       "</div>"
      ],
      "text/plain": [
       "                                   NU_INSCRICAO  NOTA_FINAL\n",
       "10801  848daf808904864c1ee5d51545a2539e2dcbe901     1751.71\n",
       "3226   97166da67df0908861a868cf318b277c4bdbb0da     1739.25\n",
       "3682   b733ccac4e5b7c1da0448f1dad7990ec0793b1d2     1720.98\n",
       "9011   78ca18b6fea7ccd3e067b3945cf200f8686209a7     1716.40\n",
       "4755   8588b01c2ff81ad3c9ff31cd89fc094896c4aa69     1708.71\n",
       "12707  19982f867b8f23a829a2f738374770708ec7f263     1700.87\n",
       "6039   17ae668ce9041105883e9db101d614f58d526f66     1698.58\n",
       "10219  3326c76719930f9838bc9ef803fe1b73a1668723     1689.04\n",
       "1509   41489fd85a5d0cb6e397fb5ebcd19d32e9265cb7     1685.95\n",
       "3535   32767c1a152919a1f72fa91afe19bb7c559f2824     1681.58\n",
       "11334  ac5057ba1f029c2c37bc55c82f3ea3e4b8bcb0ce     1678.61\n",
       "10951  7c7c16a3ebd04e3b4a42e086a447a64fc6fa0996     1669.45\n",
       "9602   e9a67323f3cce292a7fd1528311470edb38f82d9     1665.71\n",
       "4564   9eaa35afce755aeef24faee5ec0e78612f52b56c     1659.42\n",
       "5913   c0bb9d9a29e686a5ef35f2443738d4bd8544a290     1655.89\n",
       "3792   c771c44232f6ae553494cf7085f2b3e515841133     1654.41\n",
       "499    4c29d5913f759e503efae77c531a713d48dfb512     1653.37\n",
       "13191  61f38d59bbcfa4897a2e14740bec95e087e2e06f     1651.34\n",
       "3080   b8912a162392742129d79ff0c625cfc02a425811     1645.12\n",
       "10387  05a0ee9c17758662d1e5a985cac6d7e0938d3a58     1642.04"
      ]
     },
     "execution_count": 64,
     "metadata": {},
     "output_type": "execute_result"
    }
   ],
   "source": [
    "final_df = data[['NU_INSCRICAO', 'NOTA_FINAL']]\n",
    "final_df"
   ]
  },
  {
   "cell_type": "markdown",
   "metadata": {},
   "source": [
    "Finally, I use the to_csv method to export the dataframe as a csv and submit the challenge using the command:\n",
    "\n",
    "codenation submit -c enem-1"
   ]
  },
  {
   "cell_type": "code",
   "execution_count": 67,
   "metadata": {},
   "outputs": [],
   "source": [
    "final_df.to_csv('./answer.csv', index=False)"
   ]
  }
 ],
 "metadata": {
  "kernelspec": {
   "display_name": "Python 3",
   "language": "python",
   "name": "python3"
  },
  "language_info": {
   "codemirror_mode": {
    "name": "ipython",
    "version": 3
   },
   "file_extension": ".py",
   "mimetype": "text/x-python",
   "name": "python",
   "nbconvert_exporter": "python",
   "pygments_lexer": "ipython3",
   "version": "3.6.5"
  }
 },
 "nbformat": 4,
 "nbformat_minor": 2
}
